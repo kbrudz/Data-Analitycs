{
 "cells": [
  {
   "attachments": {},
   "cell_type": "markdown",
   "metadata": {},
   "source": [
    "# Lab 6 - model comparison"
   ]
  },
  {
   "cell_type": "code",
   "execution_count": 30,
   "metadata": {},
   "outputs": [],
   "source": [
    "import pandas as pd\n",
    "import numpy as np\n",
    "import arviz as az\n",
    "from matplotlib import pyplot as plt\n",
    "from cmdstanpy import CmdStanModel"
   ]
  },
  {
   "attachments": {},
   "cell_type": "markdown",
   "metadata": {},
   "source": [
    "Excercise 1 - generate data"
   ]
  },
  {
   "cell_type": "code",
   "execution_count": 22,
   "metadata": {},
   "outputs": [
    {
     "name": "stderr",
     "output_type": "stream",
     "text": [
      "11:26:44 - cmdstanpy - INFO - CmdStan start processing\n",
      "chain 1 |\u001b[34m██████████\u001b[0m| 00:00 Sampling completed                      "
     ]
    },
    {
     "name": "stdout",
     "output_type": "stream",
     "text": [
      "                                                                                "
     ]
    },
    {
     "name": "stderr",
     "output_type": "stream",
     "text": [
      "\n",
      "11:26:44 - cmdstanpy - INFO - CmdStan done processing.\n"
     ]
    },
    {
     "name": "stdout",
     "output_type": "stream",
     "text": [
      "\n"
     ]
    },
    {
     "data": {
      "image/png": "[encoded data removed]",
      "text/plain": [
       "<Figure size 432x288 with 1 Axes>"
      ]
     },
     "metadata": {
      "needs_background": "light"
     },
     "output_type": "display_data"
    }
   ],
   "source": [
    "F = 5\n",
    "L = 5\n",
    "N = (F + L)*100\n",
    "stan1=CmdStanModel(stan_file='code_1.stan')\n",
    "samples1 = stan1.sample(data={'N':N}, \n",
    "                            fixed_param=True, \n",
    "                            iter_sampling=1000, \n",
    "                            iter_warmup=0, \n",
    "                            chains = 1)\n",
    "\n",
    "\n",
    "# Extract the values of y from the Stan output\n",
    "y1 = samples1.stan_variable('y')[0]\n",
    "\n",
    "# Create a histogram of the generated samples\n",
    "plt.hist(y1, bins=int(np.sqrt(N)), density=True)\n",
    "plt.axvline(np.mean(y1), color='red', linestyle='dashed', linewidth=1)\n",
    "plt.xlabel('y')\n",
    "plt.ylabel('Density')\n",
    "plt.title('Histogram of y')\n",
    "plt.show()\n",
    "\n",
    "\n"
   ]
  },
  {
   "cell_type": "code",
   "execution_count": 25,
   "metadata": {},
   "outputs": [
    {
     "name": "stderr",
     "output_type": "stream",
     "text": [
      "11:29:26 - cmdstanpy - INFO - CmdStan start processing\n",
      "chain 1 |\u001b[34m██████████\u001b[0m| 00:01 Sampling completed                      "
     ]
    },
    {
     "name": "stdout",
     "output_type": "stream",
     "text": [
      "                                                                                "
     ]
    },
    {
     "name": "stderr",
     "output_type": "stream",
     "text": [
      "\n",
      "11:29:28 - cmdstanpy - INFO - CmdStan done processing.\n"
     ]
    },
    {
     "name": "stdout",
     "output_type": "stream",
     "text": [
      "\n"
     ]
    },
    {
     "data": {
      "image/png": "[encoded data removed]",
      "text/plain": [
       "<Figure size 432x288 with 1 Axes>"
      ]
     },
     "metadata": {
      "needs_background": "light"
     },
     "output_type": "display_data"
    }
   ],
   "source": [
    "stan2=CmdStanModel(stan_file='code_2.stan')\n",
    "samples2 = stan2.sample(data={'N':N}, \n",
    "                            fixed_param=True, \n",
    "                            iter_sampling=1000, \n",
    "                            iter_warmup=0, \n",
    "                            chains = 1)\n",
    "\n",
    "\n",
    "# Extract the values of y from the Stan output\n",
    "y2 = samples2.stan_variable('y')[0]\n",
    "\n",
    "# Create a histogram of the generated samples\n",
    "plt.hist(y2, bins=int(np.sqrt(N)), density=True)\n",
    "plt.axvline(np.mean(y2), color='red', linestyle='dashed', linewidth=1)\n",
    "plt.xlabel('y')\n",
    "plt.ylabel('Density')\n",
    "plt.title('Histogram of y')\n",
    "plt.show()"
   ]
  },
  {
   "attachments": {},
   "cell_type": "markdown",
   "metadata": {},
   "source": [
    "Excercise 2 - compare normal and student models for data from first file"
   ]
  },
  {
   "cell_type": "code",
   "execution_count": 28,
   "metadata": {},
   "outputs": [
    {
     "name": "stderr",
     "output_type": "stream",
     "text": [
      "11:32:10 - cmdstanpy - INFO - CmdStan start processing\n",
      "chain 1 |\u001b[34m██████████\u001b[0m| 00:00 Sampling completed                      "
     ]
    },
    {
     "name": "stdout",
     "output_type": "stream",
     "text": [
      "                                                                                "
     ]
    },
    {
     "name": "stderr",
     "output_type": "stream",
     "text": [
      "\n",
      "11:32:10 - cmdstanpy - INFO - CmdStan done processing.\n",
      "11:32:11 - cmdstanpy - INFO - CmdStan start processing\n"
     ]
    },
    {
     "name": "stdout",
     "output_type": "stream",
     "text": [
      "\n"
     ]
    },
    {
     "name": "stderr",
     "output_type": "stream",
     "text": [
      "chain 1 |\u001b[34m██████████\u001b[0m| 00:00 Sampling completed                      "
     ]
    },
    {
     "name": "stdout",
     "output_type": "stream",
     "text": [
      "                                                                                "
     ]
    },
    {
     "name": "stderr",
     "output_type": "stream",
     "text": [
      "\n",
      "11:32:11 - cmdstanpy - INFO - CmdStan done processing.\n"
     ]
    },
    {
     "name": "stdout",
     "output_type": "stream",
     "text": [
      "\n"
     ]
    }
   ],
   "source": [
    "data1 = {\n",
    "    'N': N,\n",
    "    'y': y1\n",
    "}\n",
    "\n",
    "data2={\n",
    "    'N': N,\n",
    "    'y': y2\n",
    "}\n",
    "\n",
    "stan3=CmdStanModel(stan_file='code_3.stan')\n",
    "samples3 = stan3.sample(data=data1, \n",
    "                            fixed_param=True, \n",
    "                            iter_sampling=1000, \n",
    "                            iter_warmup=0, \n",
    "                            chains = 1)\n",
    "samples3_2 = stan3.sample(data=data2, \n",
    "                            fixed_param=True, \n",
    "                            iter_sampling=1000, \n",
    "                            iter_warmup=0, \n",
    "                            chains = 1)\n",
    "\n"
   ]
  },
  {
   "cell_type": "code",
   "execution_count": 29,
   "metadata": {},
   "outputs": [
    {
     "name": "stderr",
     "output_type": "stream",
     "text": [
      "11:32:44 - cmdstanpy - INFO - compiling stan file /home/lab6/code_4.stan to exe file /home/lab6/code_4\n",
      "11:32:58 - cmdstanpy - INFO - compiled model executable: /home/lab6/code_4\n",
      "11:32:58 - cmdstanpy - INFO - CmdStan start processing\n",
      "chain 1 |\u001b[34m██████████\u001b[0m| 00:01 Sampling completed                      "
     ]
    },
    {
     "name": "stdout",
     "output_type": "stream",
     "text": [
      "                                                                                "
     ]
    },
    {
     "name": "stderr",
     "output_type": "stream",
     "text": [
      "\n",
      "11:32:59 - cmdstanpy - INFO - CmdStan done processing.\n"
     ]
    },
    {
     "name": "stdout",
     "output_type": "stream",
     "text": [
      "\n"
     ]
    },
    {
     "name": "stderr",
     "output_type": "stream",
     "text": [
      "11:32:59 - cmdstanpy - INFO - CmdStan start processing\n",
      "chain 1 |\u001b[34m██████████\u001b[0m| 00:01 Sampling completed                      "
     ]
    },
    {
     "name": "stdout",
     "output_type": "stream",
     "text": [
      "                                                                                "
     ]
    },
    {
     "name": "stderr",
     "output_type": "stream",
     "text": [
      "\n",
      "11:33:00 - cmdstanpy - INFO - CmdStan done processing.\n"
     ]
    },
    {
     "name": "stdout",
     "output_type": "stream",
     "text": [
      "\n"
     ]
    }
   ],
   "source": [
    "stan4=CmdStanModel(stan_file='code_4.stan')\n",
    "samples4 = stan4.sample(data=data1, \n",
    "                            fixed_param=True, \n",
    "                            iter_sampling=1000, \n",
    "                            iter_warmup=0, \n",
    "                            chains = 1)\n",
    "samples4_2 = stan4.sample(data=data2, \n",
    "                            fixed_param=True, \n",
    "                            iter_sampling=1000, \n",
    "                            iter_warmup=0, \n",
    "                            chains = 1)\n"
   ]
  },
  {
   "attachments": {},
   "cell_type": "markdown",
   "metadata": {},
   "source": [
    "Using az.compare and az.plot_compare analyze both models using loo and waic criteria."
   ]
  },
  {
   "cell_type": "code",
   "execution_count": 63,
   "metadata": {},
   "outputs": [
    {
     "name": "stderr",
     "output_type": "stream",
     "text": [
      "No artists with labels found to put in legend.  Note that artists whose label start with an underscore are ignored when legend() is called with no argument.\n",
      "No artists with labels found to put in legend.  Note that artists whose label start with an underscore are ignored when legend() is called with no argument.\n"
     ]
    },
    {
     "data": {
      "image/png": "[encoded data removed]",
      "text/plain": [
       "<Figure size 864x432 with 2 Axes>"
      ]
     },
     "metadata": {
      "needs_background": "light"
     },
     "output_type": "display_data"
    }
   ],
   "source": [
    "# Compare the models using WAIC\n",
    "compare_dict_1 = {'stan3': samples3,'stan4': samples4}\n",
    "compare_dict_2 = {'stan3': samples3_2,'stan4': samples4_2}\n",
    "\n",
    "waic_df_1 = az.compare(compare_dict_1, ic = 'waic')\n",
    "\n",
    "waic_df_2 = az.compare(compare_dict_2, ic = 'waic')\n",
    "\n",
    "# Plot the comparison metrics\n",
    "fig, (ax1, ax2) = plt.subplots(nrows=1, ncols=2, figsize=(12, 6))\n",
    "\n",
    "az.plot_compare(waic_df_1, figsize=(8, 6), insample_dev=False, ax=ax1)\n",
    "ax1.set_title('Comparison of Model 1 vs Other Models(WAIC)')\n",
    "ax1.legend()\n",
    "\n",
    "az.plot_compare(waic_df_2, figsize=(8, 6), insample_dev=False, ax=ax2)\n",
    "ax2.set_title('Comparison of Model 2 vs Other Models(WAIC)')\n",
    "ax2.legend()\n",
    "\n",
    "plt.show()"
   ]
  },
  {
   "cell_type": "code",
   "execution_count": 64,
   "metadata": {},
   "outputs": [
    {
     "name": "stderr",
     "output_type": "stream",
     "text": [
      "/usr/local/lib/python3.9/site-packages/arviz/stats/stats.py:811: UserWarning: Estimated shape parameter of Pareto distribution is greater than 0.7 for one or more samples. You should consider using a more robust model, this is because importance sampling is less likely to work well if the marginal posterior and LOO posterior are very different. This is more likely to happen with a non-robust model and highly influential observations.\n",
      "  warnings.warn(\n",
      "/usr/local/lib/python3.9/site-packages/arviz/stats/stats.py:811: UserWarning: Estimated shape parameter of Pareto distribution is greater than 0.7 for one or more samples. You should consider using a more robust model, this is because importance sampling is less likely to work well if the marginal posterior and LOO posterior are very different. This is more likely to happen with a non-robust model and highly influential observations.\n",
      "  warnings.warn(\n",
      "/usr/local/lib/python3.9/site-packages/arviz/stats/stats.py:811: UserWarning: Estimated shape parameter of Pareto distribution is greater than 0.7 for one or more samples. You should consider using a more robust model, this is because importance sampling is less likely to work well if the marginal posterior and LOO posterior are very different. This is more likely to happen with a non-robust model and highly influential observations.\n",
      "  warnings.warn(\n",
      "/usr/local/lib/python3.9/site-packages/arviz/stats/stats.py:811: UserWarning: Estimated shape parameter of Pareto distribution is greater than 0.7 for one or more samples. You should consider using a more robust model, this is because importance sampling is less likely to work well if the marginal posterior and LOO posterior are very different. This is more likely to happen with a non-robust model and highly influential observations.\n",
      "  warnings.warn(\n",
      "No artists with labels found to put in legend.  Note that artists whose label start with an underscore are ignored when legend() is called with no argument.\n",
      "No artists with labels found to put in legend.  Note that artists whose label start with an underscore are ignored when legend() is called with no argument.\n"
     ]
    },
    {
     "data": {
      "image/png": "[encoded data removed]",
      "text/plain": [
       "<Figure size 864x432 with 2 Axes>"
      ]
     },
     "metadata": {
      "needs_background": "light"
     },
     "output_type": "display_data"
    }
   ],
   "source": [
    "# Compare the models using loo\n",
    "compare_dict_1_1 = {'stan3': samples3,'stan4': samples4}\n",
    "compare_dict_2_2 = {'stan3': samples3_2,'stan4': samples4_2}\n",
    "\n",
    "loo_df_1  = az.compare(compare_dict_1_1, ic = 'loo')\n",
    "\n",
    "loo_df_2  = az.compare(compare_dict_2_2, ic = 'loo')\n",
    "\n",
    "# Plot the comparison metrics\n",
    "fig, (ax1, ax2) = plt.subplots(nrows=1, ncols=2, figsize=(12, 6))\n",
    "\n",
    "az.plot_compare(loo_df_1, figsize=(8, 6), insample_dev=False, ax=ax1)\n",
    "ax1.set_title('Comparison of Model 1 vs Other Models(LOO)')\n",
    "ax1.legend()\n",
    "\n",
    "az.plot_compare(loo_df_2, figsize=(8, 6), insample_dev=False, ax=ax2)\n",
    "ax2.set_title('Comparison of Model 2 vs Other Models(LOO)')\n",
    "ax2.legend()\n",
    "\n",
    "plt.show()"
   ]
  },
  {
   "attachments": {},
   "cell_type": "markdown",
   "metadata": {},
   "source": [
    "Excercise 3 - compare models with different numbers of predictors"
   ]
  },
  {
   "cell_type": "code",
   "execution_count": 78,
   "metadata": {},
   "outputs": [],
   "source": [
    "# Extract 'X' from the Stan samples\n",
    "x = samples2.stan_variable('X')\n",
    "\n",
    "# Reshape 'X' into matrices with different numbers of predictors\n",
    "# x1 has 1 predictor\n",
    "x1 = x.reshape(1000,-1)[0:1,:N]\n",
    "x1 = np.transpose(x1)\n",
    "\n",
    "# x2 has 2 predictors\n",
    "x2 = x.reshape(1000,-1)[0:2,:N]\n",
    "x2 = np.transpose(x2)\n",
    "\n",
    "# x3 has 3 predictors\n",
    "x3 = x.reshape(1000,-1)[0:3,:N]\n",
    "x3 = np.transpose(x3)"
   ]
  },
  {
   "cell_type": "code",
   "execution_count": 75,
   "metadata": {},
   "outputs": [
    {
     "name": "stderr",
     "output_type": "stream",
     "text": [
      "12:47:08 - cmdstanpy - INFO - CmdStan start processing\n",
      "chain 1 |\u001b[34m██████████\u001b[0m| 00:01 Sampling completed                      "
     ]
    },
    {
     "name": "stdout",
     "output_type": "stream",
     "text": [
      "                                                                                "
     ]
    },
    {
     "name": "stderr",
     "output_type": "stream",
     "text": [
      "\n",
      "12:47:09 - cmdstanpy - INFO - CmdStan done processing.\n"
     ]
    },
    {
     "name": "stdout",
     "output_type": "stream",
     "text": [
      "\n"
     ]
    },
    {
     "name": "stderr",
     "output_type": "stream",
     "text": [
      "12:47:09 - cmdstanpy - INFO - CmdStan start processing\n",
      "chain 1 |\u001b[34m██████████\u001b[0m| 00:01 Sampling completed                      "
     ]
    },
    {
     "name": "stdout",
     "output_type": "stream",
     "text": [
      "                                                                                "
     ]
    },
    {
     "name": "stderr",
     "output_type": "stream",
     "text": [
      "\n",
      "12:47:10 - cmdstanpy - INFO - CmdStan done processing.\n"
     ]
    },
    {
     "name": "stdout",
     "output_type": "stream",
     "text": [
      "\n"
     ]
    },
    {
     "name": "stderr",
     "output_type": "stream",
     "text": [
      "12:47:10 - cmdstanpy - INFO - CmdStan start processing\n",
      "chain 1 |\u001b[34m██████████\u001b[0m| 00:01 Sampling completed                      "
     ]
    },
    {
     "name": "stdout",
     "output_type": "stream",
     "text": [
      "                                                                                "
     ]
    },
    {
     "name": "stderr",
     "output_type": "stream",
     "text": [
      "\n",
      "12:47:11 - cmdstanpy - INFO - CmdStan done processing.\n"
     ]
    },
    {
     "name": "stdout",
     "output_type": "stream",
     "text": [
      "\n"
     ]
    }
   ],
   "source": [
    "stan5=CmdStanModel(stan_file='code_5.stan')\n",
    "samples5_1 = stan5.sample(data = {'N':N,'K':1,'y':y2,'X':x1}, \n",
    "                            fixed_param=True, \n",
    "                            iter_sampling=1000, \n",
    "                            iter_warmup=0, \n",
    "                            chains = 1)\n",
    "\n",
    "samples5_2 = stan5.sample(data = {'N':N,'K':2,'y':y2,'X':x2}, \n",
    "                            fixed_param=True, \n",
    "                            iter_sampling=1000, \n",
    "                            iter_warmup=0, \n",
    "                            chains = 1)\n",
    "                            \n",
    "\n",
    "samples5_3 = stan5.sample(data = {'N':N,'K':3,'y':y2,'X':x3}, \n",
    "                            fixed_param=True, \n",
    "                            iter_sampling=1000, \n",
    "                            iter_warmup=0, \n",
    "                            chains = 1)"
   ]
  },
  {
   "cell_type": "code",
   "execution_count": 76,
   "metadata": {},
   "outputs": [
    {
     "name": "stdout",
     "output_type": "stream",
     "text": [
      "        rank        waic        p_waic     d_waic    weight         se  \\\n",
      "model1     0 -2372.99474  3.780123e-28    0.00000  0.952416  31.112000   \n",
      "model3     1 -2817.83836  6.430695e-28  444.84362  0.000000  62.997941   \n",
      "model2     2 -2848.46239  4.514257e-28  475.46765  0.047584  11.076016   \n",
      "\n",
      "              dse  warning waic_scale  \n",
      "model1   0.000000    False        log  \n",
      "model3  41.122524    False        log  \n",
      "model2  28.154005    False        log  \n"
     ]
    },
    {
     "data": {
      "text/plain": [
       "Text(0.5, 1.0, 'Comparison of Model 1 vs Other Models(WAIC)')"
      ]
     },
     "execution_count": 76,
     "metadata": {},
     "output_type": "execute_result"
    },
    {
     "data": {
      "image/png": "[encoded data removed]",
      "text/plain": [
       "<Figure size 432x216 with 1 Axes>"
      ]
     },
     "metadata": {
      "needs_background": "light"
     },
     "output_type": "display_data"
    }
   ],
   "source": [
    "# Create dictionary of model samples\n",
    "model_dict5 = {'model1': samples5_1, 'model2': samples5_2, 'model3': samples5_3}\n",
    "\n",
    "# Compute WAIC for each model using arviz.compare()\n",
    "model_compare_waic = az.compare(model_dict5, ic='waic')\n",
    "\n",
    "# Print and plot WAIC values\n",
    "print(model_compare_waic.head())\n",
    "az.plot_compare(model_compare_waic)\n",
    "plt.title('Comparison of Model 1 vs Other Models(WAIC)')"
   ]
  },
  {
   "cell_type": "code",
   "execution_count": 77,
   "metadata": {},
   "outputs": [
    {
     "name": "stderr",
     "output_type": "stream",
     "text": [
      "/usr/local/lib/python3.9/site-packages/arviz/stats/stats.py:811: UserWarning: Estimated shape parameter of Pareto distribution is greater than 0.7 for one or more samples. You should consider using a more robust model, this is because importance sampling is less likely to work well if the marginal posterior and LOO posterior are very different. This is more likely to happen with a non-robust model and highly influential observations.\n",
      "  warnings.warn(\n",
      "/usr/local/lib/python3.9/site-packages/arviz/stats/stats.py:811: UserWarning: Estimated shape parameter of Pareto distribution is greater than 0.7 for one or more samples. You should consider using a more robust model, this is because importance sampling is less likely to work well if the marginal posterior and LOO posterior are very different. This is more likely to happen with a non-robust model and highly influential observations.\n",
      "  warnings.warn(\n"
     ]
    },
    {
     "name": "stdout",
     "output_type": "stream",
     "text": [
      "        rank         loo  p_loo      d_loo    weight         se        dse  \\\n",
      "model1     0 -2372.99474    0.0    0.00000  0.952416  31.112000   0.000000   \n",
      "model3     1 -2817.83836    0.0  444.84362  0.000000  62.997941  41.122524   \n",
      "model2     2 -2848.46239    0.0  475.46765  0.047584  11.076016  28.154005   \n",
      "\n",
      "        warning loo_scale  \n",
      "model1     True       log  \n",
      "model3     True       log  \n",
      "model2     True       log  \n"
     ]
    },
    {
     "name": "stderr",
     "output_type": "stream",
     "text": [
      "/usr/local/lib/python3.9/site-packages/arviz/stats/stats.py:811: UserWarning: Estimated shape parameter of Pareto distribution is greater than 0.7 for one or more samples. You should consider using a more robust model, this is because importance sampling is less likely to work well if the marginal posterior and LOO posterior are very different. This is more likely to happen with a non-robust model and highly influential observations.\n",
      "  warnings.warn(\n"
     ]
    },
    {
     "data": {
      "text/plain": [
       "Text(0.5, 1.0, 'Comparison of Model 1 vs Other Models(LOO)')"
      ]
     },
     "execution_count": 77,
     "metadata": {},
     "output_type": "execute_result"
    },
    {
     "data": {
      "image/png": "[encoded data removed]",
      "text/plain": [
       "<Figure size 432x216 with 1 Axes>"
      ]
     },
     "metadata": {
      "needs_background": "light"
     },
     "output_type": "display_data"
    }
   ],
   "source": [
    "# Compute LOO for each model using arviz.compare()\n",
    "model_compare_loo = az.compare(model_dict5, ic = 'loo')\n",
    "# Print and plot WAIC values\n",
    "print(model_compare_loo.head())\n",
    "az.plot_compare(model_compare_loo)\n",
    "plt.title('Comparison of Model 1 vs Other Models(LOO)')"
   ]
  }
 ],
 "metadata": {
  "kernelspec": {
   "display_name": "Python 3",
   "language": "python",
   "name": "python3"
  },
  "language_info": {
   "codemirror_mode": {
    "name": "ipython",
    "version": 3
   },
   "file_extension": ".py",
   "mimetype": "text/x-python",
   "name": "python",
   "nbconvert_exporter": "python",
   "pygments_lexer": "ipython3",
   "version": "3.9.11"
  },
  "orig_nbformat": 4
 },
 "nbformat": 4,
 "nbformat_minor": 2
}
