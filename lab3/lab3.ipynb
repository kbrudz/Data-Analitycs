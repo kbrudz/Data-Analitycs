{
 "cells": [
  {
   "cell_type": "code",
   "execution_count": 119,
   "metadata": {},
   "outputs": [],
   "source": [
    "from cmdstanpy import CmdStanModel\n",
    "import pandas as pd\n",
    "import arviz as az \n",
    "import numpy as np\n",
    "import matplotlib.pyplot as plt\n",
    "import scipy.stats as stats\n",
    "import cmdstanpy\n"
   ]
  },
  {
   "cell_type": "code",
   "execution_count": 22,
   "metadata": {},
   "outputs": [
    {
     "name": "stderr",
     "output_type": "stream",
     "text": [
      "INFO:cmdstanpy:compiling stan file /home/lab3/code_1.stan to exe file /home/lab3/code_1\n",
      "INFO:cmdstanpy:compiled model executable: /home/lab3/code_1\n",
      "INFO:cmdstanpy:CmdStan start processing\n",
      "chain 1 |\u001b[34m██████████\u001b[0m| 00:00 Sampling completed"
     ]
    },
    {
     "name": "stdout",
     "output_type": "stream",
     "text": [
      "                                                                                "
     ]
    },
    {
     "name": "stderr",
     "output_type": "stream",
     "text": [
      "\n",
      "INFO:cmdstanpy:CmdStan done processing.\n"
     ]
    },
    {
     "name": "stdout",
     "output_type": "stream",
     "text": [
      "\n"
     ]
    }
   ],
   "source": [
    "# Task 1\n",
    "gen_quant = CmdStanModel(stan_file='code_1.stan')\n",
    "samples = gen_quant.sample(data={\"N\":50},\n",
    "                           fixed_param=True, \n",
    "                            iter_sampling=1000, \n",
    "                            iter_warmup=0, \n",
    "                            chains = 1)\n",
    "\n"
   ]
  },
  {
   "cell_type": "code",
   "execution_count": 24,
   "metadata": {},
   "outputs": [
    {
     "name": "stdout",
     "output_type": "stream",
     "text": [
      "   lp__  accept_stat__     y     theta\n",
      "0   0.0            0.0   9.0  0.220249\n",
      "1   0.0            0.0   9.0  0.187693\n",
      "2   0.0            0.0  10.0  0.171970\n",
      "3   0.0            0.0   9.0  0.186084\n",
      "4   0.0            0.0  11.0  0.211272\n"
     ]
    },
    {
     "data": {
      "image/png": "[encoded data removed]",
      "text/plain": [
       "<Figure size 1080x360 with 2 Axes>"
      ]
     },
     "metadata": {
      "needs_background": "light"
     },
     "output_type": "display_data"
    },
    {
     "name": "stdout",
     "output_type": "stream",
     "text": [
      "Mean of y:  9.94\n",
      "Mean of ratio:  0.1988\n"
     ]
    }
   ],
   "source": [
    "df = samples.draws_pd()\n",
    "print(df.head())\n",
    "\n",
    "fig, axs = plt.subplots(1, 2, figsize=(15, 5))\n",
    "axs[0].hist(df[\"y\"], bins=20)\n",
    "axs[0].set_title(\"Number of allergic reactions y\")\n",
    "ratio = df[\"y\"]/50\n",
    "axs[1].hist(ratio, bins=20)\n",
    "axs[1].set_title(\"Ratio of allergic reactions y\")\n",
    "plt.show()\n",
    "\n",
    "print(\"Mean of y: \", df[\"y\"].mean())\n",
    "print(\"Mean of ratio: \", ratio.mean())"
   ]
  },
  {
   "cell_type": "code",
   "execution_count": 201,
   "metadata": {},
   "outputs": [
    {
     "name": "stderr",
     "output_type": "stream",
     "text": [
      "INFO:cmdstanpy:compiling stan file /home/lab3/code_2.stan to exe file /home/lab3/code_2\n",
      "INFO:cmdstanpy:compiled model executable: /home/lab3/code_2\n",
      "INFO:cmdstanpy:CmdStan start processing\n",
      "chain 1 |\u001b[33m          \u001b[0m| 00:00 Status\n",
      "\u001b[A\n",
      "\n",
      "\u001b[A\u001b[A\n",
      "chain 1 |\u001b[33m██████████\u001b[0m| 00:00 Sampling completed\n",
      "chain 2 |\u001b[34m██████████\u001b[0m| 00:00 Sampling completed\n",
      "chain 3 |\u001b[34m██████████\u001b[0m| 00:00 Sampling completed\n",
      "\n",
      "\n",
      "chain 4 |\u001b[33m██████████\u001b[0m| 00:00 Sampling completed\n"
     ]
    },
    {
     "name": "stdout",
     "output_type": "stream",
     "text": [
      "                                                                                                                                                                                                                                                                                                                                "
     ]
    },
    {
     "name": "stderr",
     "output_type": "stream",
     "text": [
      "INFO:cmdstanpy:CmdStan done processing.\n"
     ]
    },
    {
     "name": "stdout",
     "output_type": "stream",
     "text": [
      "\n",
      "          p  y_pred\n",
      "0  0.212226     6.0\n",
      "1  0.226380    12.0\n",
      "2  0.229048    12.0\n",
      "3  0.229433    16.0\n",
      "4  0.155320     8.0\n"
     ]
    },
    {
     "data": {
      "image/png": "[encoded data removed]",
      "text/plain": [
       "<Figure size 720x360 with 2 Axes>"
      ]
     },
     "metadata": {
      "needs_background": "light"
     },
     "output_type": "display_data"
    }
   ],
   "source": [
    "number_of_reactions = 10\n",
    "model_posterior = CmdStanModel(stan_file='code_2.stan')\n",
    "samples_posterior = model_posterior.sample(data={'N':50,\n",
    "                                                 'y':number_of_reactions})\n",
    "\n",
    "df_posterior = pd.DataFrame(samples_posterior.stan_variables())\n",
    "print(df_posterior.head())\n",
    "ratio_posterior = df_posterior[\"y_pred\"]/50\n",
    "fig, axs = plt.subplots(1, 2,figsize=(10, 5))\n",
    "axs[0].hist(df_posterior[\"y_pred\"], bins=20)\n",
    "axs[0].set_title(\"Number of allergic reactions y\")\n",
    "axs[1].hist(ratio_posterior, bins=20)\n",
    "axs[1].set_title(\"Ratio of allergic reactions y\")\n",
    "plt.show()"
   ]
  },
  {
   "cell_type": "code",
   "execution_count": 202,
   "metadata": {},
   "outputs": [
    {
     "name": "stderr",
     "output_type": "stream",
     "text": [
      "arviz - WARNING - Shape validation failed: input_shape: (1, 4000), minimum_shape: (chains=2, draws=4)\n"
     ]
    },
    {
     "name": "stdout",
     "output_type": "stream",
     "text": [
      "Mean of predicted ratio:  0.208\n",
      "Density interval of predicted ratio: \n",
      " - lower: 0.08\n",
      " - upper: 0.34\n",
      "Mean of probability:  0.20791574615000002\n",
      "Density interval of probability:\n",
      " - lower: 0.117757\n",
      " - upper: 0.293852\n",
      "\n",
      "Probability that ratio is lower than the average probability:  0.5245\n"
     ]
    }
   ],
   "source": [
    "# import scipy.stats as stats\n",
    "\n",
    "# compute 94% highest density interval (HDI) for predicted ratio\n",
    "# predicted_ratio_hdi = stats.mstats.hdquantiles(ratio_posterior, prob=[0.03, 0.97])\n",
    "# predicted_ratio_mean = np.mean(ratio_posterior)\n",
    "\n",
    "ratio_summary = az.summary(ratio_posterior.to_numpy(), hdi_prob=0.94)\n",
    "ratio_mean = ratio_summary['mean'][0]\n",
    "\n",
    "ratio_hdi = az.hdi(ratio_posterior.to_numpy(), hdi_prob=0.94)\n",
    "print(\"Mean of predicted ratio: \", ratio_mean)\n",
    "print(\"Density interval of predicted ratio: \")\n",
    "print(f\" - lower: {ratio_hdi[0]}\")\n",
    "print(f\" - upper: {ratio_hdi[1]}\")\n",
    "\n",
    "# compute 94% HDI for probability\n",
    "# probability_hdi = stats.mstats.hdquantiles(df_posterior[\"p\"], prob=[0.03, 0.97])\n",
    "# probability_mean = np.mean(df_posterior[\"p\"])\n",
    "\n",
    "# p_summary = az.summary(df_posterior[\"p\"].to_numpy(), hdi_prob=0.94)\n",
    "# p_mean = p_summary[\"mean\"][0]\n",
    "p_mean = df_posterior[\"p\"].mean()\n",
    "p_hdi = az.hdi(df_posterior[\"p\"].to_numpy(), hdi_prob=0.94)\n",
    "print(\"Mean of probability: \", p_mean)\n",
    "print(\"Density interval of probability:\")\n",
    "print(f\" - lower: {p_hdi[0]}\")\n",
    "print(f\" - upper: {p_hdi[1]}\")\n",
    "\n",
    "ratio_prob_lower = (ratio_posterior < p_mean).sum()/len(ratio_posterior)\n",
    "print(\"\\nProbability that ratio is lower than the average probability: \", ratio_prob_lower)\n"
   ]
  }
 ],
 "metadata": {
  "kernelspec": {
   "display_name": "Python 3",
   "language": "python",
   "name": "python3"
  },
  "language_info": {
   "codemirror_mode": {
    "name": "ipython",
    "version": 3
   },
   "file_extension": ".py",
   "mimetype": "text/x-python",
   "name": "python",
   "nbconvert_exporter": "python",
   "pygments_lexer": "ipython3",
   "version": "3.9.11"
  },
  "orig_nbformat": 4
 },
 "nbformat": 4,
 "nbformat_minor": 2
}
